{
 "cells": [
  {
   "cell_type": "code",
   "execution_count": 47,
   "metadata": {
    "tags": [
     "import block"
    ]
   },
   "outputs": [],
   "source": [
    "#imports\n",
    "import torch\n",
    "from IPython.display import Image  # for displaying images\n",
    "import os \n",
    "import random\n",
    "import shutil\n",
    "from sklearn.model_selection import train_test_split\n",
    "import xml.etree.ElementTree as ET\n",
    "from xml.dom import minidom\n",
    "from tqdm import tqdm\n",
    "from PIL import Image, ImageDraw\n",
    "import numpy as np\n",
    "import matplotlib.pyplot as plt\n",
    "import glob\n",
    "\n",
    "random.seed(108)"
   ]
  },
  {
   "cell_type": "code",
   "execution_count": 45,
   "metadata": {
    "tags": [
     "Classes for data"
    ]
   },
   "outputs": [],
   "source": [
    "#Classes for data \n",
    "class NumberOfBus:\n",
    "    def __init__(self, filename, size, bndbox):\n",
    "        self.filename = filename\n",
    "        self.size = Size(size)\n",
    "        self.bndbox = BndBox(bndbox)\n",
    "\n",
    "    @staticmethod\n",
    "    def extract_fields_from_xml(xml_file):\n",
    "        root = ET.parse(xml_file).getroot()\n",
    "        filename = ''\n",
    "        size = ''\n",
    "        bbox = ''\n",
    "        # Parse the XML Tree\n",
    "        for elem in root:\n",
    "            # Get the file name \n",
    "            if elem.tag == \"filename\":\n",
    "                filename = elem.text\n",
    "                \n",
    "            # Get the image size\n",
    "            elif elem.tag == \"size\":\n",
    "                size = elem\n",
    "\n",
    "            # Get details of the bounding box \n",
    "            elif elem.tag == \"object\":\n",
    "                for subelem in elem:\n",
    "                    if subelem.tag == \"bndbox\":\n",
    "                        bbox = subelem\n",
    "        return NumberOfBus(filename, size, bbox)\n",
    "\n",
    "class Size:\n",
    "    def __init__(self, xmlNode):\n",
    "        width = 0\n",
    "        height = 0\n",
    "        depth = 0\n",
    "        for node in xmlNode:\n",
    "            if node.tag == \"width\":\n",
    "                width = int(node.text)\n",
    "            elif node.tag == \"height\":\n",
    "                height = int(node.text)\n",
    "            elif node.tag == \"depth\":\n",
    "                depth = int(node.text)\n",
    "        self.width = width\n",
    "        self.height = height\n",
    "        self.depth  = depth\n",
    "\n",
    "class BndBox:\n",
    "    def __init__(self, xmlNode) -> None:\n",
    "        xmax = 0\n",
    "        xmin = 0\n",
    "        ymin = 0\n",
    "        ymax = 0\n",
    "        for node in xmlNode:\n",
    "            if node.tag == \"xmax\":\n",
    "                xmax = int(node.text)\n",
    "            elif node.tag == \"xmin\":\n",
    "                xmin = int(node.text)\n",
    "            elif node.tag == \"ymin\":\n",
    "                ymin = int(node.text)\n",
    "            elif node.tag == \"ymax\":\n",
    "                ymax = int(node.text)\n",
    "        self.xmax = xmax\n",
    "        self.xmin = xmin\n",
    "        self.ymin = ymin\n",
    "        self.ymax = ymax "
   ]
  },
  {
   "cell_type": "code",
   "execution_count": 43,
   "metadata": {},
   "outputs": [],
   "source": [
    "xml_file = ('DataXml\\\\test\\\\image-1-53_jpg.rf.acf7c6c8961a2e16284a42187fa13aff.xml')\n",
    "obj = NumberOfBus.extract_fields_from_xml(xml_file)"
   ]
  },
  {
   "cell_type": "code",
   "execution_count": 50,
   "metadata": {},
   "outputs": [
    {
     "name": "stdout",
     "output_type": "stream",
     "text": [
      "[<__main__.NumberOfBus object at 0x000001771DAFE050>, <__main__.NumberOfBus object at 0x000001771F2880D0>, <__main__.NumberOfBus object at 0x000001771E3FF5D0>, <__main__.NumberOfBus object at 0x000001771E7795D0>, <__main__.NumberOfBus object at 0x000001771E778110>, <__main__.NumberOfBus object at 0x000001771E7A0C50>, <__main__.NumberOfBus object at 0x000001771E7793D0>, <__main__.NumberOfBus object at 0x000001771E77AA10>, <__main__.NumberOfBus object at 0x000001771E3FFE90>, <__main__.NumberOfBus object at 0x000001771E7A1FD0>, <__main__.NumberOfBus object at 0x000001771DAE8610>, <__main__.NumberOfBus object at 0x000001771E77A6D0>, <__main__.NumberOfBus object at 0x000001771E779110>, <__main__.NumberOfBus object at 0x000001771E77A310>, <__main__.NumberOfBus object at 0x000001771E779350>, <__main__.NumberOfBus object at 0x000001771E77A650>, <__main__.NumberOfBus object at 0x000001771F289D50>, <__main__.NumberOfBus object at 0x000001771E743590>, <__main__.NumberOfBus object at 0x000001771E741D90>, <__main__.NumberOfBus object at 0x000001771E740C10>, <__main__.NumberOfBus object at 0x000001771E741250>, <__main__.NumberOfBus object at 0x000001771E741F50>, <__main__.NumberOfBus object at 0x000001771D0E8ED0>, <__main__.NumberOfBus object at 0x000001771E743050>, <__main__.NumberOfBus object at 0x000001771E778950>, <__main__.NumberOfBus object at 0x000001771E7408D0>, <__main__.NumberOfBus object at 0x000001771E767010>, <__main__.NumberOfBus object at 0x000001771D8A2CD0>, <__main__.NumberOfBus object at 0x000001771E778190>, <__main__.NumberOfBus object at 0x000001771E742810>, <__main__.NumberOfBus object at 0x000001771E742710>, <__main__.NumberOfBus object at 0x000001771E742850>, <__main__.NumberOfBus object at 0x000001771F28D750>, <__main__.NumberOfBus object at 0x000001771E742F10>, <__main__.NumberOfBus object at 0x000001771E778C50>, <__main__.NumberOfBus object at 0x000001771DADA390>, <__main__.NumberOfBus object at 0x000001771DAF0290>, <__main__.NumberOfBus object at 0x000001771DAF06D0>, <__main__.NumberOfBus object at 0x000001771E766790>, <__main__.NumberOfBus object at 0x000001771DAF1190>, <__main__.NumberOfBus object at 0x000001771DAF01D0>, <__main__.NumberOfBus object at 0x000001771DAF11D0>, <__main__.NumberOfBus object at 0x000001771DAF1750>, <__main__.NumberOfBus object at 0x000001771DAF3B10>, <__main__.NumberOfBus object at 0x000001771E7663D0>, <__main__.NumberOfBus object at 0x000001771DAF20D0>, <__main__.NumberOfBus object at 0x000001771DAF3110>, <__main__.NumberOfBus object at 0x000001771E3F5190>, <__main__.NumberOfBus object at 0x000001771DAC3050>, <__main__.NumberOfBus object at 0x000001771DAC3C10>, <__main__.NumberOfBus object at 0x000001771DAC3E90>, <__main__.NumberOfBus object at 0x000001771E3FFA10>, <__main__.NumberOfBus object at 0x000001771DAC1810>, <__main__.NumberOfBus object at 0x000001771DAFC950>, <__main__.NumberOfBus object at 0x000001771DBE1910>, <__main__.NumberOfBus object at 0x000001771E3FCB50>, <__main__.NumberOfBus object at 0x000001771DB43C10>, <__main__.NumberOfBus object at 0x000001771DB41A90>, <__main__.NumberOfBus object at 0x000001771DAC34D0>, <__main__.NumberOfBus object at 0x000001771E765310>, <__main__.NumberOfBus object at 0x000001771DB55FD0>, <__main__.NumberOfBus object at 0x000001771DB42B50>, <__main__.NumberOfBus object at 0x000001771DAC1D50>, <__main__.NumberOfBus object at 0x000001771DB41790>, <__main__.NumberOfBus object at 0x000001771E778250>, <__main__.NumberOfBus object at 0x000001771DAC1A50>, <__main__.NumberOfBus object at 0x000001771DAC3090>, <__main__.NumberOfBus object at 0x000001771DAC1890>, <__main__.NumberOfBus object at 0x000001771DAC0B50>]\n"
     ]
    }
   ],
   "source": [
    "os.listdir(\"DataXml\\\\test\")\n",
    "files = glob.glob(os.path.join('DataXml\\\\test', '*.xml'))\n",
    "list_bus_data = []\n",
    "for filePath in files: \n",
    "    list_bus_data.append(NumberOfBus.extract_fields_from_xml(filePath))\n",
    "print(list_bus_data)"
   ]
  },
  {
   "cell_type": "code",
   "execution_count": null,
   "metadata": {},
   "outputs": [],
   "source": [
    "# Convert the info dict to the required yolo format and write it to disk\n",
    "def convert_to_yolov5(busData: list):\n",
    "   \n",
    "    # For each bounding box\n",
    "    for busItem in busData:\n",
    "        # Transform the bbox co-ordinates as per the format required by YOLO v5\n",
    "        b_center_x = (busItem.xmin + busItem.xmax) / 2 \n",
    "        b_center_y = (busItem.ymin + busItem.ymax) / 2\n",
    "        b_width    = (busItem.xmax - busItem.xmin)\n",
    "        b_height   = (busItem.ymax - busItem.ymin)\n",
    "        \n",
    "        # Normalise the co-ordinates by the dimensions of the image\n",
    "        b_center_x /= busItem.size.width\n",
    "        b_center_y /= busItem.size.height\n",
    "        b_width    /= busItem.size.width\n",
    "        b_height   /= busItem.size.height \n",
    "        \n",
    "        #Write the bbox details to the file \n",
    "        print_buffer.append(\"{:.3f} {:.3f} {:.3f} {:.3f}\".format(b_center_x, b_center_y, b_width, b_height))\n",
    "        \n",
    "    # Name of the file which we have to save \n",
    "    save_file_name = os.path.join(\"annotations\", info_dict[\"filename\"].replace(\"png\", \"txt\"))\n",
    "    \n",
    "    # Save the annotation to disk \n",
    "    print(\"\\n\".join(print_buffer), file= open(save_file_name, \"w\"))"
   ]
  }
 ],
 "metadata": {
  "kernelspec": {
   "display_name": "Python 3",
   "language": "python",
   "name": "python3"
  },
  "language_info": {
   "codemirror_mode": {
    "name": "ipython",
    "version": 3
   },
   "file_extension": ".py",
   "mimetype": "text/x-python",
   "name": "python",
   "nbconvert_exporter": "python",
   "pygments_lexer": "ipython3",
   "version": "3.11.2"
  },
  "orig_nbformat": 4
 },
 "nbformat": 4,
 "nbformat_minor": 2
}
