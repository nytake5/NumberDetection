{
 "cells": [
  {
   "cell_type": "code",
   "execution_count": null,
   "metadata": {
    "tags": [
     "import block"
    ]
   },
   "outputs": [],
   "source": [
    "#imports\n",
    "import torch\n",
    "from IPython.display import Image  # for displaying images\n",
    "import os \n",
    "import random\n",
    "import shutil\n",
    "from sklearn.model_selection import train_test_split\n",
    "import xml.etree.ElementTree as ET\n",
    "from xml.dom import minidom\n",
    "from tqdm import tqdm\n",
    "from PIL import Image, ImageDraw\n",
    "import numpy as np\n",
    "import matplotlib.pyplot as plt\n",
    "import glob\n",
    "import tensorflow as tf\n",
    "import datetime\n",
    "\n",
    "random.seed(108)"
   ]
  },
  {
   "cell_type": "code",
   "execution_count": null,
   "metadata": {
    "tags": [
     "Classes for data"
    ]
   },
   "outputs": [],
   "source": [
    "#Classes for data \n",
    "class NumberOfBus:\n",
    "    def __init__(self, filename, size, bndbox):\n",
    "        self.filename = filename\n",
    "        self.size = Size(size)\n",
    "        self.bndbox = BndBox(bndbox)\n",
    "\n",
    "    @staticmethod\n",
    "    def extract_fields_from_xml(xml_file):\n",
    "        root = ET.parse(xml_file).getroot()\n",
    "        filename = ''\n",
    "        size = ''\n",
    "        bbox = ''\n",
    "        # Parse the XML Tree\n",
    "        for elem in root:\n",
    "            # Get the file name \n",
    "            if elem.tag == \"filename\":\n",
    "                filename = elem.text\n",
    "                \n",
    "            # Get the image size\n",
    "            elif elem.tag == \"size\":\n",
    "                size = elem\n",
    "\n",
    "            # Get details of the bounding box \n",
    "            elif elem.tag == \"object\":\n",
    "                for subelem in elem:\n",
    "                    if subelem.tag == \"bndbox\":\n",
    "                        bbox = subelem\n",
    "        return NumberOfBus(filename, size, bbox)\n",
    "\n",
    "class Size:\n",
    "    def __init__(self, xmlNode):\n",
    "        width = 0\n",
    "        height = 0\n",
    "        depth = 0\n",
    "        for node in xmlNode:\n",
    "            if node.tag == \"width\":\n",
    "                width = int(node.text)\n",
    "            elif node.tag == \"height\":\n",
    "                height = int(node.text)\n",
    "            elif node.tag == \"depth\":\n",
    "                depth = int(node.text)\n",
    "        self.width = width\n",
    "        self.height = height\n",
    "        self.depth  = depth\n",
    "\n",
    "class BndBox:\n",
    "    def __init__(self, xmlNode) -> None:\n",
    "        xmax = 0\n",
    "        xmin = 0\n",
    "        ymin = 0\n",
    "        ymax = 0\n",
    "        for node in xmlNode:\n",
    "            if node.tag == \"xmax\":\n",
    "                xmax = int(node.text)\n",
    "            elif node.tag == \"xmin\":\n",
    "                xmin = int(node.text)\n",
    "            elif node.tag == \"ymin\":\n",
    "                ymin = int(node.text)\n",
    "            elif node.tag == \"ymax\":\n",
    "                ymax = int(node.text)\n",
    "        self.xmax = xmax\n",
    "        self.xmin = xmin\n",
    "        self.ymin = ymin\n",
    "        self.ymax = ymax "
   ]
  },
  {
   "cell_type": "code",
   "execution_count": null,
   "metadata": {},
   "outputs": [],
   "source": [
    "xml_file = ('DataXml\\\\test\\\\image-1-53_jpg.rf.acf7c6c8961a2e16284a42187fa13aff.xml')\n",
    "obj = NumberOfBus.extract_fields_from_xml(xml_file)"
   ]
  },
  {
   "cell_type": "code",
   "execution_count": null,
   "metadata": {},
   "outputs": [],
   "source": [
    "os.listdir(\"DataXml\\\\test\")\n",
    "files = glob.glob(os.path.join('DataXml\\\\test', '*.xml'))\n",
    "list_bus_data = []\n",
    "for filePath in files: \n",
    "    list_bus_data.append(NumberOfBus.extract_fields_from_xml(filePath))\n",
    "print(list_bus_data)\n",
    "print(list_bus_data[1].bndbox.xmin)"
   ]
  },
  {
   "cell_type": "code",
   "execution_count": null,
   "metadata": {},
   "outputs": [],
   "source": [
    "# Convert the info dict to the required yolo format and write it to disk\n",
    "def convert_to_yolov5(filePath, busData: list):\n",
    "    # For each bounding box\n",
    "    for busItem in busData:\n",
    "        # Transform the bbox co-ordinates as per the format required by YOLO v5\n",
    "        print_buffer = []\n",
    "        b_center_x = (busItem.bndbox.xmin + busItem.bndbox.xmax) / 2 \n",
    "        b_center_y = (busItem.bndbox.ymin + busItem.bndbox.ymax) / 2\n",
    "        b_width    = (busItem.bndbox.xmax - busItem.bndbox.xmin)\n",
    "        b_height   = (busItem.bndbox.ymax - busItem.bndbox.ymin)\n",
    "        \n",
    "        # Normalise the co-ordinates by the dimensions of the image\n",
    "        b_center_x /= busItem.size.width\n",
    "        b_center_y /= busItem.size.height\n",
    "        b_width    /= busItem.size.width\n",
    "        b_height   /= busItem.size.height \n",
    "        \n",
    "        #Write the bbox details to the file \n",
    "        print_buffer.append(\"{:.3f} {:.3f} {:.3f} {:.3f}\".format(b_center_x, b_center_y, b_width, b_height))\n",
    "        \n",
    "        # Name of the file which we have to save \n",
    "        filename = busItem.filename[0:len(busItem.filename)-3] + \"txt\"\n",
    "        save_file_name = os.path.join(filePath, filename)\n",
    "        # Save the annotation to disk \n",
    "        print(\"\\n\".join(print_buffer), file= open(save_file_name, \"w\"))"
   ]
  },
  {
   "cell_type": "code",
   "execution_count": null,
   "metadata": {},
   "outputs": [],
   "source": [
    "# Get the annotations\n",
    "annotations = glob.glob(os.path.join('DataXml\\\\train', '*.xml'))\n",
    "commonPath = os.path.join('Data', 'train')\n",
    "filePath = os.path.join(commonPath, 'labels')\n",
    "annotations.sort()\n",
    "print(len(annotations))\n",
    "# Convert and save the annotations\n",
    "info_list = list()\n",
    "for ann in tqdm(annotations):\n",
    "    print(ann)\n",
    "    info_list.append(NumberOfBus.extract_fields_from_xml(ann))\n",
    "    convert_to_yolov5(filePath, info_list)\n",
    "annotations = [os.path.join(filePath, x) for x in os.listdir(filePath) if x[-3:] == \"txt\"]"
   ]
  },
  {
   "cell_type": "code",
   "execution_count": null,
   "metadata": {},
   "outputs": [],
   "source": [
    "images = glob.glob(os.path.join('DataXml\\\\train', '*.jpg'))\n",
    "commonPath = os.path.join('Data', 'train')\n",
    "filePath = os.path.join(commonPath, 'images')\n",
    "print(filePath)\n",
    "print(images)\n",
    "for f in images:\n",
    "    try:\n",
    "        shutil.copy(f, filePath)\n",
    "    except:\n",
    "        print(f)"
   ]
  },
  {
   "cell_type": "code",
   "execution_count": null,
   "metadata": {},
   "outputs": [],
   "source": [
    "# Get the annotations\n",
    "annotations = glob.glob(os.path.join('DataXml\\\\test', '*.xml'))\n",
    "commonPath = os.path.join('Data', 'test')\n",
    "filePath = os.path.join(commonPath, 'labels')\n",
    "annotations.sort()\n",
    "print(len(annotations))\n",
    "# Convert and save the annotations\n",
    "info_list = list()\n",
    "for ann in tqdm(annotations):\n",
    "    print(ann)\n",
    "    info_list.append(NumberOfBus.extract_fields_from_xml(ann))\n",
    "    convert_to_yolov5(filePath, info_list)\n",
    "annotations = [os.path.join(filePath, x) for x in os.listdir(filePath) if x[-3:] == \"txt\"]"
   ]
  },
  {
   "cell_type": "code",
   "execution_count": null,
   "metadata": {},
   "outputs": [],
   "source": [
    "images = glob.glob(os.path.join('DataXml\\\\test', '*.jpg'))\n",
    "commonPath = os.path.join('Data', 'test')\n",
    "filePath = os.path.join(commonPath, 'images')\n",
    "for f in images:\n",
    "    try:\n",
    "        shutil.move(f, filePath)\n",
    "    except:\n",
    "        print(f)\n",
    "        assert False"
   ]
  },
  {
   "cell_type": "code",
   "execution_count": null,
   "metadata": {},
   "outputs": [],
   "source": [
    "# Get the annotations\n",
    "annotations = glob.glob(os.path.join('DataXml\\\\valid', '*.xml'))\n",
    "commonPath = os.path.join('Data', 'valid')\n",
    "filePath = os.path.join(commonPath, 'labels')\n",
    "annotations.sort()\n",
    "print(len(annotations))\n",
    "# Convert and save the annotations\n",
    "info_list = list()\n",
    "for ann in tqdm(annotations):\n",
    "    print(ann)\n",
    "    info_list.append(NumberOfBus.extract_fields_from_xml(ann))\n",
    "    convert_to_yolov5(filePath, info_list)\n",
    "annotations = [os.path.join(filePath, x) for x in os.listdir(filePath) if x[-3:] == \"txt\"]"
   ]
  },
  {
   "cell_type": "code",
   "execution_count": null,
   "metadata": {},
   "outputs": [],
   "source": [
    "images = glob.glob(os.path.join('DataXml\\\\valid', '*.jpg'))\n",
    "commonPath = os.path.join('Data', 'valid')\n",
    "filePath = os.path.join(commonPath, 'images')\n",
    "print(filePath)\n",
    "print(images)\n",
    "for f in images:\n",
    "    try:\n",
    "        shutil.copy(f, filePath)\n",
    "    except:\n",
    "        print(f)"
   ]
  },
  {
   "cell_type": "code",
   "execution_count": null,
   "metadata": {},
   "outputs": [],
   "source": [
    "print(len(annotations))\n",
    "print(annotations)"
   ]
  },
  {
   "cell_type": "code",
   "execution_count": null,
   "metadata": {},
   "outputs": [],
   "source": [
    "random.seed(0)\n",
    "\n",
    "def plot_bounding_box(image, annotation_list):\n",
    "    annotations = np.array(annotation_list)\n",
    "    w, h = image.size\n",
    "    \n",
    "    plotted_image = ImageDraw.Draw(image)\n",
    "\n",
    "    transformed_annotations = np.copy(annotations)\n",
    "    print(transformed_annotations)\n",
    "    transformed_annotations[:,[0,2]] = annotations[:,[0,2]] * w\n",
    "    transformed_annotations[:,[1,3]] = annotations[:,[1,3]] * h \n",
    "    \n",
    "    transformed_annotations[:,0] = transformed_annotations[:,0] - (transformed_annotations[:,2] / 2)\n",
    "    transformed_annotations[:,1] = transformed_annotations[:,1] - (transformed_annotations[:,3] / 2)\n",
    "    transformed_annotations[:,2] = transformed_annotations[:,0] + transformed_annotations[:,2]\n",
    "    transformed_annotations[:,3] = transformed_annotations[:,1] + transformed_annotations[:,3]\n",
    "    \n",
    "    for ann in transformed_annotations:\n",
    "        x0, y0, x1, y1 = ann\n",
    "        plotted_image.rectangle(((x0,y0), (x1,y1)))\n",
    "    \n",
    "    plt.imshow(np.array(image))\n",
    "    plt.show()\n",
    "\n",
    "# Get any random annotation file \n",
    "annotation_file = random.choice(annotations[:500:])\n",
    "with open(annotation_file, \"r\") as file:\n",
    "    annotation_list = file.read().split(\"\\n\")[:-1]\n",
    "    annotation_list = [x.split(\" \") for x in annotation_list]\n",
    "    annotation_list = [[float(y) for y in x ] for x in annotation_list]\n",
    "print(annotation_file)\n",
    "print(annotation_list)\n",
    "#Get the corresponding image file\n",
    "image_file = annotation_file.replace(\"Data\\\\labels\\\\valid\", \"Data\\\\images\\\\valid\")[0:len(annotation_file)-3]\n",
    "image_file += \"jpg\"\n",
    "print(image_file)\n",
    "assert os.path.exists(image_file)\n",
    "\n",
    "#Load the image\n",
    "print(annotations)\n",
    "image = Image.open(image_file)\n",
    "\n",
    "#Plot the Bounding Box\n",
    "plot_bounding_box(image, annotation_list)"
   ]
  },
  {
   "cell_type": "code",
   "execution_count": null,
   "metadata": {},
   "outputs": [],
   "source": [
    "if not os.path.exists('yolov7'):\n",
    "    !git clone https://github.com/WongKinYiu/yolov7.git"
   ]
  },
  {
   "cell_type": "code",
   "execution_count": null,
   "metadata": {},
   "outputs": [],
   "source": [
    "!tensorboard --logdir runs/train"
   ]
  },
  {
   "cell_type": "code",
   "execution_count": null,
   "metadata": {},
   "outputs": [],
   "source": [
    "!wandb login e478cc6c0a4343a9912bfe3a45254bbf4c6139c1"
   ]
  },
  {
   "cell_type": "code",
   "execution_count": 1,
   "metadata": {},
   "outputs": [],
   "source": [
    "!python yolov7/train.py --workers 8 --device 0 --batch-size 8 --cfg cfg/training/yolov7-d6.yaml --epochs 100 --data Data/data.yaml --weights yolov7_training.pt --hyp data/hyp.scratch.custom.yaml"
   ]
  },
  {
   "cell_type": "code",
   "execution_count": null,
   "metadata": {},
   "outputs": [],
   "source": [
    "!python yolov7/detect.py --source Data/test/images --weights yolov7_training.pt --conf 0.25 --name yolo_road_det"
   ]
  },
  {
   "cell_type": "code",
   "execution_count": null,
   "metadata": {},
   "outputs": [],
   "source": [
    "detections_dir = \"runs/detect/yolo_road_det4\"\n",
    "detection_images = [os.path.join(detections_dir, x) for x in os.listdir(detections_dir)]\n",
    "\n",
    "random_detection_image = Image.open(random.choice(detection_images))\n",
    "plt.imshow(np.array(random_detection_image))"
   ]
  }
 ],
 "metadata": {
  "kernelspec": {
   "display_name": "Python 3",
   "language": "python",
   "name": "python3"
  },
  "language_info": {
   "codemirror_mode": {
    "name": "ipython",
    "version": 3
   },
   "file_extension": ".py",
   "mimetype": "text/x-python",
   "name": "python",
   "nbconvert_exporter": "python",
   "pygments_lexer": "ipython3",
   "version": "3.11.3"
  },
  "orig_nbformat": 4
 },
 "nbformat": 4,
 "nbformat_minor": 2
}
